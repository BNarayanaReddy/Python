{
 "cells": [
  {
   "cell_type": "markdown",
   "id": "25d126e3-495f-4934-8d34-a41bc9c6d06d",
   "metadata": {},
   "source": [
    "<h1>Numpy Basics</h1>"
   ]
  },
  {
   "cell_type": "code",
   "execution_count": 1,
   "id": "d745c25d-5f63-4c9c-88ce-b55fd3ce45ef",
   "metadata": {},
   "outputs": [],
   "source": [
    "import numpy as np"
   ]
  },
  {
   "cell_type": "code",
   "execution_count": 3,
   "id": "a5a755fd-6347-4116-83ed-0ecfa25b4841",
   "metadata": {},
   "outputs": [
    {
     "name": "stdout",
     "output_type": "stream",
     "text": [
      "[1 2 3 4 5]\n"
     ]
    }
   ],
   "source": [
    "a = np.array([1,2,3,4,5])\n",
    "print(a)"
   ]
  },
  {
   "cell_type": "code",
   "execution_count": 5,
   "id": "ffe5beba-5c31-4346-a60e-11e554459c30",
   "metadata": {},
   "outputs": [
    {
     "data": {
      "text/plain": [
       "array([1., 2., 3., 4., 5.], dtype=float32)"
      ]
     },
     "execution_count": 5,
     "metadata": {},
     "output_type": "execute_result"
    }
   ],
   "source": [
    "b = np.array([1,2,3,4,5],dtype = \"float32\")\n",
    "b"
   ]
  },
  {
   "cell_type": "markdown",
   "id": "18e02e97-3242-4c8b-bac4-b104c2ffd7e5",
   "metadata": {},
   "source": [
    "##### numpy : SIMD - Single Input Multple Data"
   ]
  },
  {
   "cell_type": "code",
   "execution_count": 8,
   "id": "4b994de5-e950-4962-8486-061c040081d5",
   "metadata": {},
   "outputs": [
    {
     "data": {
      "text/plain": [
       "array([[ 1,  2,  3,  4,  5],\n",
       "       [ 6,  7,  8,  9, 10]])"
      ]
     },
     "execution_count": 8,
     "metadata": {},
     "output_type": "execute_result"
    }
   ],
   "source": [
    "c = np.array([[1,2,3,4,5],[6,7,8,9,10]])\n",
    "c"
   ]
  },
  {
   "cell_type": "code",
   "execution_count": 9,
   "id": "c7669180-9250-433c-a0e1-6c56d15b69cd",
   "metadata": {},
   "outputs": [
    {
     "name": "stdout",
     "output_type": "stream",
     "text": [
      "1\n",
      "2\n"
     ]
    }
   ],
   "source": [
    "#Dimension of the array or matrix\n",
    "print(a.ndim)\n",
    "print(c.ndim)"
   ]
  },
  {
   "cell_type": "code",
   "execution_count": 11,
   "id": "b214aac6-f219-453c-aa06-922e34b64ef2",
   "metadata": {},
   "outputs": [
    {
     "name": "stdout",
     "output_type": "stream",
     "text": [
      "(5,)\n",
      "(2, 5)\n"
     ]
    }
   ],
   "source": [
    "# Shape\n",
    "print(a.shape)\n",
    "print(c.shape)"
   ]
  },
  {
   "cell_type": "code",
   "execution_count": 12,
   "id": "2ab0df36-a433-4c50-8aa6-4366cbda096c",
   "metadata": {},
   "outputs": [
    {
     "name": "stdout",
     "output_type": "stream",
     "text": [
      "float32\n",
      "int64\n"
     ]
    }
   ],
   "source": [
    "print(b.dtype)\n",
    "print(a.dtype)"
   ]
  },
  {
   "cell_type": "code",
   "execution_count": 14,
   "id": "2f2059e8-72a8-492d-8175-662239cd65c5",
   "metadata": {},
   "outputs": [
    {
     "name": "stdout",
     "output_type": "stream",
     "text": [
      "5\n",
      "10\n"
     ]
    }
   ],
   "source": [
    "print(a.size)\n",
    "print(c.size)"
   ]
  },
  {
   "cell_type": "code",
   "execution_count": 18,
   "id": "3d3cbd0f-a8e7-45c5-9eaa-d0bd74ca6c24",
   "metadata": {},
   "outputs": [
    {
     "name": "stdout",
     "output_type": "stream",
     "text": [
      "8\n"
     ]
    }
   ],
   "source": [
    "#  bit size of the element\n",
    "print(a.itemsize)"
   ]
  },
  {
   "cell_type": "code",
   "execution_count": 20,
   "id": "36d9cdea-8127-4fbc-9679-d83063c01566",
   "metadata": {},
   "outputs": [
    {
     "name": "stdout",
     "output_type": "stream",
     "text": [
      "40\n"
     ]
    }
   ],
   "source": [
    "# Total size of the array\n",
    "print(a.itemsize * a.size)   #each element is of 8 bytes"
   ]
  },
  {
   "cell_type": "code",
   "execution_count": 21,
   "id": "5d81482b-d996-4d30-8b1a-2e3dcf93caf7",
   "metadata": {},
   "outputs": [
    {
     "data": {
      "text/plain": [
       "40"
      ]
     },
     "execution_count": 21,
     "metadata": {},
     "output_type": "execute_result"
    }
   ],
   "source": [
    "a.nbytes"
   ]
  },
  {
   "cell_type": "markdown",
   "id": "d9bfb7d1-d9b5-41be-a4e3-951b31c95bd3",
   "metadata": {},
   "source": [
    "##### Accessing/Changing specific elements,rows, colums etc"
   ]
  },
  {
   "cell_type": "code",
   "execution_count": 24,
   "id": "608e664c-1d7d-43d8-ad60-be9945fd4655",
   "metadata": {},
   "outputs": [
    {
     "name": "stdout",
     "output_type": "stream",
     "text": [
      "[[ 1  2  3  4  5]\n",
      " [ 6  7  8  9 10]]\n"
     ]
    }
   ],
   "source": [
    "a1 = np.array([[1,2,3,4,5],[6,7,8,9,10]])\n",
    "print(a1)"
   ]
  },
  {
   "cell_type": "code",
   "execution_count": 25,
   "id": "101be1b6-3fa1-4aaf-a40f-620fa1635d7c",
   "metadata": {},
   "outputs": [
    {
     "name": "stdout",
     "output_type": "stream",
     "text": [
      "2\n"
     ]
    }
   ],
   "source": [
    "# Get a specific element/access\n",
    "print(a1[0,1]) # (row,column)"
   ]
  },
  {
   "cell_type": "code",
   "execution_count": 26,
   "id": "16b30376-c7c6-4aa1-9cd7-3b5a68b79d3e",
   "metadata": {},
   "outputs": [
    {
     "data": {
      "text/plain": [
       "array([[ 1,  2,  3,  4,  5],\n",
       "       [ 6,  7,  8,  9, 10]])"
      ]
     },
     "execution_count": 26,
     "metadata": {},
     "output_type": "execute_result"
    }
   ],
   "source": [
    "a1[:]"
   ]
  },
  {
   "cell_type": "code",
   "execution_count": 28,
   "id": "1fe593b2-7ced-440d-a00d-4ed89f2cd525",
   "metadata": {},
   "outputs": [
    {
     "data": {
      "text/plain": [
       "array([1, 2, 3, 4, 5])"
      ]
     },
     "execution_count": 28,
     "metadata": {},
     "output_type": "execute_result"
    }
   ],
   "source": [
    "a1[0,:]"
   ]
  },
  {
   "cell_type": "code",
   "execution_count": 29,
   "id": "a7ba438d-df6a-4e89-9295-2793d11f588a",
   "metadata": {},
   "outputs": [
    {
     "data": {
      "text/plain": [
       "array([2, 7])"
      ]
     },
     "execution_count": 29,
     "metadata": {},
     "output_type": "execute_result"
    }
   ],
   "source": [
    "a1[:,1]"
   ]
  },
  {
   "cell_type": "code",
   "execution_count": 34,
   "id": "77ab3278-51f2-4fcd-bdfa-ca7253b6f32a",
   "metadata": {},
   "outputs": [
    {
     "data": {
      "text/plain": [
       "array([3, 4])"
      ]
     },
     "execution_count": 34,
     "metadata": {},
     "output_type": "execute_result"
    }
   ],
   "source": [
    "a1[0, 2:4]"
   ]
  },
  {
   "cell_type": "code",
   "execution_count": 38,
   "id": "ce917088-c773-4bf6-9806-253f65142c60",
   "metadata": {},
   "outputs": [
    {
     "data": {
      "text/plain": [
       "array([[ 1,  2, 30,  4,  5],\n",
       "       [ 6,  7,  8,  9, 10]])"
      ]
     },
     "execution_count": 38,
     "metadata": {},
     "output_type": "execute_result"
    }
   ],
   "source": [
    "a1[0,2] = 30\n",
    "a1"
   ]
  },
  {
   "cell_type": "code",
   "execution_count": 49,
   "id": "a8753b1e-5f2f-43f3-82ab-31e9418809ec",
   "metadata": {},
   "outputs": [
    {
     "data": {
      "text/plain": [
       "array([[ 1,  5, 30,  4,  5],\n",
       "       [ 6,  5,  8,  9, 10]])"
      ]
     },
     "execution_count": 49,
     "metadata": {},
     "output_type": "execute_result"
    }
   ],
   "source": [
    "a1[:,1:2]\n",
    "a1"
   ]
  },
  {
   "cell_type": "markdown",
   "id": "666da191-feb7-457e-b870-21f2854e5726",
   "metadata": {},
   "source": [
    "*3d example"
   ]
  },
  {
   "cell_type": "code",
   "execution_count": 51,
   "id": "b72cb5b3-c9e3-4553-b2d1-0fb4f0a50f14",
   "metadata": {},
   "outputs": [
    {
     "data": {
      "text/plain": [
       "array([[[1, 2],\n",
       "        [3, 4]],\n",
       "\n",
       "       [[5, 6],\n",
       "        [7, 8]]])"
      ]
     },
     "execution_count": 51,
     "metadata": {},
     "output_type": "execute_result"
    }
   ],
   "source": [
    "d = np.array([\n",
    "    [\n",
    "        [1,2],\n",
    "        [3,4]\n",
    "    ],\n",
    "    [\n",
    "        [5,6],\n",
    "        [7,8]\n",
    "    ]\n",
    "])\n",
    "d"
   ]
  },
  {
   "cell_type": "code",
   "execution_count": 52,
   "id": "0af55c5c-8afb-43c5-b713-b3a35b80f4d3",
   "metadata": {},
   "outputs": [
    {
     "data": {
      "text/plain": [
       "3"
      ]
     },
     "execution_count": 52,
     "metadata": {},
     "output_type": "execute_result"
    }
   ],
   "source": [
    "d.ndim"
   ]
  },
  {
   "cell_type": "code",
   "execution_count": 53,
   "id": "80ea78fc-2f79-4329-94a5-de8871586699",
   "metadata": {},
   "outputs": [
    {
     "data": {
      "text/plain": [
       "8"
      ]
     },
     "execution_count": 53,
     "metadata": {},
     "output_type": "execute_result"
    }
   ],
   "source": [
    "d.size"
   ]
  },
  {
   "cell_type": "code",
   "execution_count": 54,
   "id": "f62a3525-1198-4a75-bed3-6dafcc1612b5",
   "metadata": {},
   "outputs": [
    {
     "data": {
      "text/plain": [
       "(2, 2, 2)"
      ]
     },
     "execution_count": 54,
     "metadata": {},
     "output_type": "execute_result"
    }
   ],
   "source": [
    "d.shape"
   ]
  },
  {
   "cell_type": "code",
   "execution_count": 55,
   "id": "8c47e407-b95f-4b36-a2a0-e0457f69efe8",
   "metadata": {},
   "outputs": [
    {
     "data": {
      "text/plain": [
       "64"
      ]
     },
     "execution_count": 55,
     "metadata": {},
     "output_type": "execute_result"
    }
   ],
   "source": [
    "d.nbytes"
   ]
  },
  {
   "cell_type": "markdown",
   "id": "a292fe8f-8470-48c6-a48e-dc3edfca921f",
   "metadata": {},
   "source": [
    "##### Accessing"
   ]
  },
  {
   "cell_type": "code",
   "execution_count": 56,
   "id": "d724a0ba-22d6-4756-ac15-823cdc810fe8",
   "metadata": {},
   "outputs": [
    {
     "data": {
      "text/plain": [
       "8"
      ]
     },
     "execution_count": 56,
     "metadata": {},
     "output_type": "execute_result"
    }
   ],
   "source": [
    "d[1,1,1]"
   ]
  },
  {
   "cell_type": "code",
   "execution_count": 59,
   "id": "bf0068c5-2fca-4a98-b886-fd0eb5be7f50",
   "metadata": {},
   "outputs": [
    {
     "data": {
      "text/plain": [
       "array([[[ 1, 50],\n",
       "        [ 3, 50]],\n",
       "\n",
       "       [[ 5, 50],\n",
       "        [ 7, 50]]])"
      ]
     },
     "execution_count": 59,
     "metadata": {},
     "output_type": "execute_result"
    }
   ],
   "source": [
    "# replace\n",
    "d[:,:,1] = 50\n",
    "d"
   ]
  },
  {
   "cell_type": "markdown",
   "id": "b10590ee-4501-42c7-aaad-79cb9a521ae4",
   "metadata": {},
   "source": [
    "##### Initializing Different types of arrays"
   ]
  },
  {
   "cell_type": "code",
   "execution_count": 65,
   "id": "488dbbd8-3aca-4298-9fe3-af412dcf63bf",
   "metadata": {},
   "outputs": [
    {
     "name": "stdout",
     "output_type": "stream",
     "text": [
      "[[0 0 0]\n",
      " [0 0 0]]\n"
     ]
    }
   ],
   "source": [
    "z = np.zeros((2,3),dtype = 'int16')\n",
    "print(z)"
   ]
  },
  {
   "cell_type": "code",
   "execution_count": 67,
   "id": "3c1ed8e9-2a9f-4d09-88f7-3680b6020a37",
   "metadata": {},
   "outputs": [
    {
     "name": "stdout",
     "output_type": "stream",
     "text": [
      "[[1 1 1]\n",
      " [1 1 1]]\n"
     ]
    }
   ],
   "source": [
    "o = np.ones((2,3),dtype = 'int16')\n",
    "print(o)"
   ]
  },
  {
   "cell_type": "markdown",
   "id": "f890fcfd-0a06-4300-97f8-0da99f4e6cf7",
   "metadata": {},
   "source": [
    "* 3-d"
   ]
  },
  {
   "cell_type": "code",
   "execution_count": 73,
   "id": "337ab4e7-375e-4b9b-895f-6a4f761d9543",
   "metadata": {},
   "outputs": [
    {
     "name": "stdout",
     "output_type": "stream",
     "text": [
      "[[[0. 0. 0.]\n",
      "  [0. 0. 0.]\n",
      "  [0. 0. 0.]]\n",
      "\n",
      " [[0. 0. 0.]\n",
      "  [0. 0. 0.]\n",
      "  [0. 0. 0.]]]\n"
     ]
    }
   ],
   "source": [
    "zz = np.zeros((2,3,3))\n",
    "print(zz)"
   ]
  },
  {
   "cell_type": "code",
   "execution_count": 88,
   "id": "51dfdeac-76b4-4f94-b7f7-f12590cab301",
   "metadata": {},
   "outputs": [
    {
     "name": "stdout",
     "output_type": "stream",
     "text": [
      "[[[100 100 100]\n",
      "  [100 100 100]\n",
      "  [100 100 100]]\n",
      "\n",
      " [[100 100 100]\n",
      "  [100 100 100]\n",
      "  [100 100 100]]]\n",
      "(2, 3, 3)\n"
     ]
    },
    {
     "data": {
      "text/plain": [
       "array([[[110, 110, 110],\n",
       "        [110, 110, 110],\n",
       "        [110, 110, 110]],\n",
       "\n",
       "       [[110, 110, 110],\n",
       "        [110, 110, 110],\n",
       "        [110, 110, 110]]])"
      ]
     },
     "execution_count": 88,
     "metadata": {},
     "output_type": "execute_result"
    }
   ],
   "source": [
    "# any other number\n",
    "an = np.full((2,3,3),100)\n",
    "print(an)\n",
    "print(an.shape)\n",
    "ans = np.full(an.shape,110)\n",
    "ans"
   ]
  },
  {
   "cell_type": "code",
   "execution_count": 86,
   "id": "23210e91-6fc4-4a81-a4b7-b3013a4a8e58",
   "metadata": {},
   "outputs": [
    {
     "name": "stdout",
     "output_type": "stream",
     "text": [
      "[[[200. 200. 200.]\n",
      "  [200. 200. 200.]\n",
      "  [200. 200. 200.]]\n",
      "\n",
      " [[200. 200. 200.]\n",
      "  [200. 200. 200.]\n",
      "  [200. 200. 200.]]]\n"
     ]
    }
   ],
   "source": [
    "an_lik = np.full_like((zz),200)\n",
    "print(an_lik)"
   ]
  },
  {
   "cell_type": "code",
   "execution_count": 97,
   "id": "60bd2d85-8d6e-43fd-96f3-c7fc34d2fb99",
   "metadata": {},
   "outputs": [
    {
     "data": {
      "text/plain": [
       "(2, 3)"
      ]
     },
     "execution_count": 97,
     "metadata": {},
     "output_type": "execute_result"
    }
   ],
   "source": [
    "# Random decimal\n",
    "de = np.random.rand(2,3)\n",
    "de\n",
    "de.shape"
   ]
  },
  {
   "cell_type": "code",
   "execution_count": 100,
   "id": "261e39f6-1fe6-4cef-a40c-54cca8246dea",
   "metadata": {},
   "outputs": [
    {
     "data": {
      "text/plain": [
       "array([[0.84998419, 0.89740356, 0.76090886],\n",
       "       [0.12987203, 0.22230263, 0.03655785]])"
      ]
     },
     "execution_count": 100,
     "metadata": {},
     "output_type": "execute_result"
    }
   ],
   "source": [
    "de = np.random.random_sample(de.shape)   # for sampling another array\n",
    "de"
   ]
  },
  {
   "cell_type": "code",
   "execution_count": 117,
   "id": "5a5f60d8-a578-4fb3-9482-af5042ff9992",
   "metadata": {},
   "outputs": [
    {
     "name": "stdout",
     "output_type": "stream",
     "text": [
      "[[87 11 77]\n",
      " [88 93 15]\n",
      " [94 84 95]]\n"
     ]
    }
   ],
   "source": [
    "# Random integers values\n",
    "dei = np.random.randint(100,size=(3,3))\n",
    "print(dei)"
   ]
  },
  {
   "cell_type": "code",
   "execution_count": 119,
   "id": "0ebda1cf-e5d8-4243-9967-42316b7b4825",
   "metadata": {},
   "outputs": [
    {
     "name": "stdout",
     "output_type": "stream",
     "text": [
      "[[1. 0. 0.]\n",
      " [0. 1. 0.]\n",
      " [0. 0. 1.]]\n"
     ]
    }
   ],
   "source": [
    "i = np.identity(3)\n",
    "print(i)"
   ]
  },
  {
   "cell_type": "code",
   "execution_count": 124,
   "id": "a64be163-fbda-4298-90e9-d1de32d53169",
   "metadata": {},
   "outputs": [
    {
     "data": {
      "text/plain": [
       "array([[1., 1., 0., 0., 0., 0.],\n",
       "       [0., 0., 1., 1., 0., 0.],\n",
       "       [0., 0., 0., 0., 1., 1.]])"
      ]
     },
     "execution_count": 124,
     "metadata": {},
     "output_type": "execute_result"
    }
   ],
   "source": [
    "# Repeating a matrix\n",
    "r1 = np.repeat(i,2,axis = 1)\n",
    "r1"
   ]
  },
  {
   "cell_type": "code",
   "execution_count": 137,
   "id": "3bf23d6e-8d1d-420c-9fc6-cee3d965493b",
   "metadata": {},
   "outputs": [
    {
     "data": {
      "text/plain": [
       "array([[1, 1, 1, 1, 1],\n",
       "       [1, 1, 1, 1, 1],\n",
       "       [1, 1, 1, 1, 1],\n",
       "       [1, 1, 1, 1, 1],\n",
       "       [1, 1, 1, 1, 1]], dtype=int32)"
      ]
     },
     "execution_count": 137,
     "metadata": {},
     "output_type": "execute_result"
    }
   ],
   "source": [
    "p = np.ones((5,5),dtype = \"int32\")\n",
    "p"
   ]
  },
  {
   "cell_type": "code",
   "execution_count": 132,
   "id": "c17663a9-41d7-42ae-829d-8b907d16f23e",
   "metadata": {},
   "outputs": [
    {
     "data": {
      "text/plain": [
       "array([[0, 0, 0],\n",
       "       [0, 0, 0],\n",
       "       [0, 0, 0]], dtype=int16)"
      ]
     },
     "execution_count": 132,
     "metadata": {},
     "output_type": "execute_result"
    }
   ],
   "source": [
    "p1 = np.zeros((3,3),dtype='int16')\n",
    "p1"
   ]
  },
  {
   "cell_type": "code",
   "execution_count": 133,
   "id": "3d8bcb93-b694-44dc-8cfc-88c33e05e5d9",
   "metadata": {},
   "outputs": [],
   "source": [
    "p1[1,1] = 9"
   ]
  },
  {
   "cell_type": "code",
   "execution_count": 134,
   "id": "3b7f6097-0e4a-4880-87e3-a874359f9f77",
   "metadata": {},
   "outputs": [
    {
     "data": {
      "text/plain": [
       "array([[0, 0, 0],\n",
       "       [0, 9, 0],\n",
       "       [0, 0, 0]], dtype=int16)"
      ]
     },
     "execution_count": 134,
     "metadata": {},
     "output_type": "execute_result"
    }
   ],
   "source": [
    "p1"
   ]
  },
  {
   "cell_type": "code",
   "execution_count": 138,
   "id": "c7ee2eb7-d596-4867-8ea4-9e17094a203e",
   "metadata": {},
   "outputs": [
    {
     "data": {
      "text/plain": [
       "array([[1, 1, 1, 1, 1],\n",
       "       [1, 1, 1, 1, 1],\n",
       "       [1, 1, 1, 1, 1],\n",
       "       [1, 1, 1, 1, 1],\n",
       "       [1, 1, 1, 1, 1]], dtype=int32)"
      ]
     },
     "execution_count": 138,
     "metadata": {},
     "output_type": "execute_result"
    }
   ],
   "source": [
    "p"
   ]
  },
  {
   "cell_type": "code",
   "execution_count": 139,
   "id": "c8a947d0-72d0-43f5-994c-77b40f5afc8a",
   "metadata": {},
   "outputs": [],
   "source": [
    "p[1:4,1:4] = p1"
   ]
  },
  {
   "cell_type": "code",
   "execution_count": 141,
   "id": "7b0f1321-9743-405c-8f69-96acc203a37d",
   "metadata": {},
   "outputs": [
    {
     "name": "stdout",
     "output_type": "stream",
     "text": [
      "[[1 1 1 1 1]\n",
      " [1 0 0 0 1]\n",
      " [1 0 9 0 1]\n",
      " [1 0 0 0 1]\n",
      " [1 1 1 1 1]]\n"
     ]
    }
   ],
   "source": [
    "print(p)"
   ]
  },
  {
   "cell_type": "markdown",
   "id": "2510efa4-b90a-4db6-bd83-821429188a7a",
   "metadata": {},
   "source": [
    "##### Becareful about the copying matrix\n"
   ]
  },
  {
   "cell_type": "code",
   "execution_count": 142,
   "id": "082b9383-ed15-44b4-94f5-73cfa3011d16",
   "metadata": {},
   "outputs": [
    {
     "name": "stdout",
     "output_type": "stream",
     "text": [
      "[1, 2, 30]\n",
      "[1, 2, 30]\n"
     ]
    }
   ],
   "source": [
    "a = [1,2,3]\n",
    "b = a\n",
    "b[2] = 30\n",
    "print(a)\n",
    "print(b)"
   ]
  },
  {
   "cell_type": "code",
   "execution_count": 144,
   "id": "d1a94ab5-e6dd-4e51-9996-cf054b3902cf",
   "metadata": {},
   "outputs": [
    {
     "name": "stdout",
     "output_type": "stream",
     "text": [
      "[1, 2, 3]\n",
      "[1, 2, 30]\n"
     ]
    }
   ],
   "source": [
    "#instead\n",
    "b = a.copy()\n",
    "b[2] = 3\n",
    "print(b)\n",
    "print(a)"
   ]
  },
  {
   "cell_type": "markdown",
   "id": "aacd4a70-e8f1-49ff-bb7e-61a1a7ff12af",
   "metadata": {},
   "source": [
    "##### Maths"
   ]
  },
  {
   "cell_type": "code",
   "execution_count": 163,
   "id": "fda5ffad-ea42-4c6d-8350-c78013814311",
   "metadata": {},
   "outputs": [
    {
     "data": {
      "text/plain": [
       "array([1, 2, 3, 4, 5, 6])"
      ]
     },
     "execution_count": 163,
     "metadata": {},
     "output_type": "execute_result"
    }
   ],
   "source": [
    "mat = np.array([1,2,3,4,5,6])\n",
    "mat"
   ]
  },
  {
   "cell_type": "code",
   "execution_count": 149,
   "id": "3db9c3e0-6335-49ae-8a3a-56e12ebb9a3c",
   "metadata": {},
   "outputs": [
    {
     "data": {
      "text/plain": [
       "array([3, 4, 5, 6, 7, 8])"
      ]
     },
     "execution_count": 149,
     "metadata": {},
     "output_type": "execute_result"
    }
   ],
   "source": [
    "mat+2"
   ]
  },
  {
   "cell_type": "code",
   "execution_count": 150,
   "id": "b7b591f7-a419-48c0-8ae3-33a4e474fd15",
   "metadata": {},
   "outputs": [
    {
     "data": {
      "text/plain": [
       "array([1, 2, 3, 4, 5, 6])"
      ]
     },
     "execution_count": 150,
     "metadata": {},
     "output_type": "execute_result"
    }
   ],
   "source": [
    "mat"
   ]
  },
  {
   "cell_type": "code",
   "execution_count": 151,
   "id": "f4780c11-fe5b-41d2-8ca4-12519f063cf8",
   "metadata": {},
   "outputs": [
    {
     "data": {
      "text/plain": [
       "array([-1,  0,  1,  2,  3,  4])"
      ]
     },
     "execution_count": 151,
     "metadata": {},
     "output_type": "execute_result"
    }
   ],
   "source": [
    "mat-2"
   ]
  },
  {
   "cell_type": "code",
   "execution_count": 152,
   "id": "85eb161d-4419-466e-a35a-9d75e4332238",
   "metadata": {},
   "outputs": [
    {
     "data": {
      "text/plain": [
       "array([ 2,  4,  6,  8, 10, 12])"
      ]
     },
     "execution_count": 152,
     "metadata": {},
     "output_type": "execute_result"
    }
   ],
   "source": [
    "mat*2"
   ]
  },
  {
   "cell_type": "code",
   "execution_count": 153,
   "id": "9808d05d-9bc7-4d77-a75e-25439f4c0392",
   "metadata": {},
   "outputs": [
    {
     "data": {
      "text/plain": [
       "array([0.5, 1. , 1.5, 2. , 2.5, 3. ])"
      ]
     },
     "execution_count": 153,
     "metadata": {},
     "output_type": "execute_result"
    }
   ],
   "source": [
    "mat/2"
   ]
  },
  {
   "cell_type": "code",
   "execution_count": 154,
   "id": "86e6cbd5-9a1a-458b-80ff-936112ac8b32",
   "metadata": {},
   "outputs": [
    {
     "data": {
      "text/plain": [
       "array([ 1,  4,  9, 16, 25, 36])"
      ]
     },
     "execution_count": 154,
     "metadata": {},
     "output_type": "execute_result"
    }
   ],
   "source": [
    "mat**2"
   ]
  },
  {
   "cell_type": "code",
   "execution_count": 164,
   "id": "004358be-a55c-4be9-af9c-99a9abbfee21",
   "metadata": {},
   "outputs": [
    {
     "data": {
      "text/plain": [
       "array([1, 2, 3, 4, 5, 6])"
      ]
     },
     "execution_count": 164,
     "metadata": {},
     "output_type": "execute_result"
    }
   ],
   "source": [
    "mat"
   ]
  },
  {
   "cell_type": "code",
   "execution_count": 165,
   "id": "53367223-84c9-4667-b0a6-d6afec89bbf6",
   "metadata": {},
   "outputs": [
    {
     "data": {
      "text/plain": [
       "array([3, 4, 5, 6, 7, 8])"
      ]
     },
     "execution_count": 165,
     "metadata": {},
     "output_type": "execute_result"
    }
   ],
   "source": [
    "mat+=2\n",
    "mat"
   ]
  },
  {
   "cell_type": "code",
   "execution_count": 180,
   "id": "bdb663a3-8e1b-4cc2-bbd0-bc132ed99700",
   "metadata": {},
   "outputs": [
    {
     "name": "stdout",
     "output_type": "stream",
     "text": [
      "[133] \n",
      "\n"
     ]
    }
   ],
   "source": [
    "# We can do the matrix manipulations\n",
    "mat2 = np.array([\n",
    "    [1],\n",
    "    [2],\n",
    "    [3],\n",
    "    [4],\n",
    "    [5],\n",
    "    [6]]\n",
    "               )\n",
    "# print(mat)\n",
    "# print(mat2)\n",
    "# print(mat2 + mat,\"\\n\")\n",
    "# print(mat-mat2,\"\\n\")\n",
    "print(np.matmul(mat,mat2),\"\\n\")\n"
   ]
  },
  {
   "cell_type": "code",
   "execution_count": 183,
   "id": "612d9156-2eb4-43c1-a946-4ac1e0a1d21b",
   "metadata": {},
   "outputs": [
    {
     "data": {
      "text/plain": [
       "array([-0.9899925 , -0.65364362,  0.28366219,  0.96017029,  0.75390225,\n",
       "       -0.14550003])"
      ]
     },
     "execution_count": 183,
     "metadata": {},
     "output_type": "execute_result"
    }
   ],
   "source": [
    "np.cos(mat)"
   ]
  },
  {
   "cell_type": "markdown",
   "id": "9557e6a1-2874-4d4d-b913-accf08516985",
   "metadata": {},
   "source": [
    "##### Linear  Algebra"
   ]
  },
  {
   "cell_type": "code",
   "execution_count": 202,
   "id": "26540085-101f-44c8-83ac-098b469f372a",
   "metadata": {},
   "outputs": [
    {
     "name": "stdout",
     "output_type": "stream",
     "text": [
      "[[5 3]\n",
      " [6 8]]\n"
     ]
    },
    {
     "data": {
      "text/plain": [
       "21.999999999999996"
      ]
     },
     "execution_count": 202,
     "metadata": {},
     "output_type": "execute_result"
    }
   ],
   "source": [
    "# Determinant of a matrix\n",
    "c = np.random.randint(10,size = (2,2),dtype = 'int16')\n",
    "print(c)\n",
    "np.linalg.det(c)"
   ]
  },
  {
   "cell_type": "code",
   "execution_count": 204,
   "id": "51f48535-9f84-45df-94aa-0125cb85acf3",
   "metadata": {},
   "outputs": [
    {
     "data": {
      "text/plain": [
       "array([[5, 6],\n",
       "       [3, 8]], dtype=int16)"
      ]
     },
     "execution_count": 204,
     "metadata": {},
     "output_type": "execute_result"
    }
   ],
   "source": [
    "c.T # Transpose"
   ]
  },
  {
   "cell_type": "code",
   "execution_count": 216,
   "id": "950de994-2944-462c-b42a-6e8b73aca35e",
   "metadata": {},
   "outputs": [
    {
     "data": {
      "text/plain": [
       "'include\\ndeterminant\\ntrace\\nsingular vector decomposition\\neigenvalue\\nmatrix norm\\ninverese\\netc.\\n\\n\\n'"
      ]
     },
     "execution_count": 216,
     "metadata": {},
     "output_type": "execute_result"
    }
   ],
   "source": [
    " \"\"\"include\n",
    "determinant\n",
    "trace\n",
    "singular vector decomposition\n",
    "eigenvalue\n",
    "matrix norm\n",
    "inverese\n",
    "etc.\n",
    "\n",
    "\n",
    "\"\"\""
   ]
  },
  {
   "cell_type": "code",
   "execution_count": 233,
   "id": "0f0aefee-c17d-4dcc-bc41-8ca58649ef0f",
   "metadata": {},
   "outputs": [
    {
     "data": {
      "text/plain": [
       "14"
      ]
     },
     "execution_count": 233,
     "metadata": {},
     "output_type": "execute_result"
    }
   ],
   "source": [
    "# dot product or scalar product\n",
    "v1 = np.array([1,2,3])\n",
    "v2 = np.array([1,2,3])\n",
    "result = v1.dot(v2)\n",
    "result   # multi and add"
   ]
  },
  {
   "cell_type": "code",
   "execution_count": 234,
   "id": "c71dccf8-6c8b-4b11-a9ef-bdaee9c049d9",
   "metadata": {},
   "outputs": [
    {
     "data": {
      "text/plain": [
       "array([[ 0.5 ,  0.5 , -1.  ],\n",
       "       [-1.25, -0.25,  2.  ],\n",
       "       [ 1.  , -0.  , -1.  ]])"
      ]
     },
     "execution_count": 234,
     "metadata": {},
     "output_type": "execute_result"
    }
   ],
   "source": [
    "# Inverse of a Matrix\n",
    "v1 = np.array([[1,2,3],[3,2,1],[1,2,2]])\n",
    "v1_inv = np.linalg.inv(v1)\n",
    "v1_inv"
   ]
  },
  {
   "cell_type": "code",
   "execution_count": 247,
   "id": "f513a06f-cee8-4a7e-a6eb-9a3d4d8b711b",
   "metadata": {},
   "outputs": [
    {
     "data": {
      "text/plain": [
       "array([[ 0.,  1., -1.],\n",
       "       [ 2., -1.,  2.],\n",
       "       [-1.,  1., -0.]])"
      ]
     },
     "execution_count": 247,
     "metadata": {},
     "output_type": "execute_result"
    }
   ],
   "source": [
    "# Solving a system of linear equations\n",
    "# Solving v1x = v2 for x  (Solving the argumented matrix resulting the simplified (GJEM))\n",
    "v2 = np.array([[1,2,3],[3,2,1],[2,1,3]])\n",
    "x = np.linalg.solve(v1,v2)\n",
    "x"
   ]
  },
  {
   "cell_type": "code",
   "execution_count": 248,
   "id": "8134c6e1-8d89-4914-8242-96359f8e6d6e",
   "metadata": {},
   "outputs": [
    {
     "name": "stdout",
     "output_type": "stream",
     "text": [
      "[ 5.65551489+0.j         -0.32775745+0.77449938j -0.32775745-0.77449938j]\n",
      "\n",
      "Eigen-Vectors : \n",
      "\n",
      "[[ 0.59431599+0.j          0.45043272-0.26810827j  0.45043272+0.26810827j]\n",
      " [ 0.62589464+0.j         -0.73515524+0.j         -0.73515524-0.j        ]\n",
      " [ 0.50501922+0.j          0.35996492+0.23494754j  0.35996492-0.23494754j]]\n"
     ]
    }
   ],
   "source": [
    "# Eigen Values and Eigen vectors\n",
    "eig_val, eig_vec = np.linalg.eig(v1)\n",
    "print(eig_val)\n",
    "print(\"\\nEigen-Vectors : \\n\")\n",
    "print(eig_vec)"
   ]
  },
  {
   "cell_type": "markdown",
   "id": "2967a902-e99d-4eb2-8513-ac75a926f84a",
   "metadata": {},
   "source": [
    "##### Statistics"
   ]
  },
  {
   "cell_type": "code",
   "execution_count": 249,
   "id": "7cdd5f2b-9d9f-40ee-a432-9af259958a55",
   "metadata": {},
   "outputs": [
    {
     "data": {
      "text/plain": [
       "array([[1, 2],\n",
       "       [3, 4]])"
      ]
     },
     "execution_count": 249,
     "metadata": {},
     "output_type": "execute_result"
    }
   ],
   "source": [
    "stat = np.array([\n",
    "    [1,2],\n",
    "    [3,4],\n",
    "    \n",
    "])\n",
    "stat"
   ]
  },
  {
   "cell_type": "code",
   "execution_count": 252,
   "id": "b464bf29-183a-4c55-bf34-e4987ea0dcd2",
   "metadata": {},
   "outputs": [
    {
     "name": "stdout",
     "output_type": "stream",
     "text": [
      "1\n",
      "4\n"
     ]
    }
   ],
   "source": [
    "mini = np.min(stat)\n",
    "maxi = np.max(stat)\n",
    "print(mini)\n",
    "print(maxi)"
   ]
  },
  {
   "cell_type": "code",
   "execution_count": 255,
   "id": "101c31a7-b62d-40d2-9917-a46f25aa12f7",
   "metadata": {},
   "outputs": [
    {
     "name": "stdout",
     "output_type": "stream",
     "text": [
      "[1 2]\n",
      "[3 4]\n"
     ]
    }
   ],
   "source": [
    "# Along the row\n",
    "maxr = np.max(stat,axis = 0)\n",
    "minr = np.min(stat,axis = 0)\n",
    "print(minr)\n",
    "print(maxr)"
   ]
  },
  {
   "cell_type": "code",
   "execution_count": 258,
   "id": "dce19fce-ad20-4e03-87af-3a22495443f5",
   "metadata": {},
   "outputs": [
    {
     "name": "stdout",
     "output_type": "stream",
     "text": [
      "[1 3]\n",
      "[2 4]\n"
     ]
    }
   ],
   "source": [
    "# Along the column\n",
    "minc = np.min(stat,axis = 1)\n",
    "maxc = np.max(stat,axis = 1)\n",
    "print(minc)\n",
    "print(maxc)"
   ]
  },
  {
   "cell_type": "code",
   "execution_count": 259,
   "id": "0dcb7b96-8afe-4cf4-9547-9e9370954c50",
   "metadata": {},
   "outputs": [
    {
     "name": "stdout",
     "output_type": "stream",
     "text": [
      "[[False False]\n",
      " [ True  True]]\n"
     ]
    }
   ],
   "source": [
    "print(stat > 2)"
   ]
  },
  {
   "cell_type": "code",
   "execution_count": 265,
   "id": "2641ef58-9cb8-4832-87f8-3cffbefb27b5",
   "metadata": {},
   "outputs": [
    {
     "name": "stdout",
     "output_type": "stream",
     "text": [
      "[4 6]\n"
     ]
    },
    {
     "data": {
      "text/plain": [
       "10"
      ]
     },
     "execution_count": 265,
     "metadata": {},
     "output_type": "execute_result"
    }
   ],
   "source": [
    "sums1 = np.sum(stat,axis = 0) # Row-wise sum\n",
    "sums = np.sum(stat) # Total sum \n",
    "print(sums1)\n",
    "sums"
   ]
  },
  {
   "cell_type": "code",
   "execution_count": 270,
   "id": "020c66bc-3007-42c9-9d5b-fa019e5dea0c",
   "metadata": {},
   "outputs": [
    {
     "name": "stdout",
     "output_type": "stream",
     "text": [
      "7\n"
     ]
    }
   ],
   "source": [
    "# Certain elements sum\n",
    "v = stat[1:2,:]\n",
    "print(np.sum(v))"
   ]
  },
  {
   "cell_type": "markdown",
   "id": "d17f1fd9-0dca-44ef-b898-99dd67195152",
   "metadata": {},
   "source": [
    "##### Reorganizing Arrays"
   ]
  },
  {
   "cell_type": "code",
   "execution_count": 274,
   "id": "d7dea579-573d-4640-8b85-ebc84264d50d",
   "metadata": {},
   "outputs": [
    {
     "name": "stdout",
     "output_type": "stream",
     "text": [
      "[[1 2 3]\n",
      " [3 2 1]]\n",
      "6\n",
      "[[1 2]\n",
      " [3 3]\n",
      " [2 1]]\n",
      "6\n"
     ]
    }
   ],
   "source": [
    "# Reshape but size is same\n",
    "before = np.array([[1,2,3],[3,2,1]])\n",
    "print(before)\n",
    "print(before.size)\n",
    "after = before.reshape(3,2)\n",
    "print(after)\n",
    "print(after.size)"
   ]
  },
  {
   "cell_type": "code",
   "execution_count": 277,
   "id": "c551cf30-d638-42e7-ba26-0f38cae07af2",
   "metadata": {},
   "outputs": [
    {
     "data": {
      "text/plain": [
       "array([[1, 2],\n",
       "       [3, 4],\n",
       "       [1, 2],\n",
       "       [3, 4]])"
      ]
     },
     "execution_count": 277,
     "metadata": {},
     "output_type": "execute_result"
    }
   ],
   "source": [
    "# Vertical Stacking\n",
    "sta_v = np.vstack([stat,stat])\n",
    "sta_v"
   ]
  },
  {
   "cell_type": "code",
   "execution_count": 278,
   "id": "46ce043d-aeb1-4cb8-8e2e-c9178b38daa2",
   "metadata": {},
   "outputs": [
    {
     "data": {
      "text/plain": [
       "array([[1, 2, 1, 2],\n",
       "       [3, 4, 3, 4]])"
      ]
     },
     "execution_count": 278,
     "metadata": {},
     "output_type": "execute_result"
    }
   ],
   "source": [
    "# Horizontal Stack\n",
    "sta_h = np.hstack([stat,stat])\n",
    "sta_h"
   ]
  },
  {
   "cell_type": "markdown",
   "id": "4a838597-aa25-41ab-95be-73777b672723",
   "metadata": {},
   "source": [
    "### Miscellaneous"
   ]
  },
  {
   "cell_type": "markdown",
   "id": "58531dc7-2b16-4d35-b67c-4ed44060ed1f",
   "metadata": {},
   "source": [
    "##### Load data from a file"
   ]
  },
  {
   "cell_type": "code",
   "execution_count": 284,
   "id": "7b63995f-64cd-4f0a-8d3e-0dc0a3414890",
   "metadata": {},
   "outputs": [
    {
     "data": {
      "text/plain": [
       "array([[  1,   2,   3,   4,   5,   6,   7,   8,   9,  10,  11],\n",
       "       [ 12,  13,  14,  15,  16,  15, 123, 123,  12,  12,   1]],\n",
       "      dtype=int32)"
      ]
     },
     "execution_count": 284,
     "metadata": {},
     "output_type": "execute_result"
    }
   ],
   "source": [
    "data = np.genfromtxt(\"data.txt\",delimiter = \",\",dtype = \"int32\")\n",
    "data"
   ]
  },
  {
   "cell_type": "markdown",
   "id": "cfa6ea7e-2a64-4735-bd01-011a296971fb",
   "metadata": {},
   "source": [
    "##### Booleans and Indexing"
   ]
  },
  {
   "cell_type": "code",
   "execution_count": 288,
   "id": "40604021-796c-4d80-83cc-31d55eb44299",
   "metadata": {},
   "outputs": [
    {
     "data": {
      "text/plain": [
       "array([  3,   4,   5,   6,   7,   8,   9,  10,  11,  12,  13,  14,  15,\n",
       "        16,  15, 123, 123,  12,  12], dtype=int32)"
      ]
     },
     "execution_count": 288,
     "metadata": {},
     "output_type": "execute_result"
    }
   ],
   "source": [
    "data[data>2]\n",
    "# data will be in the series type instead of teh data frame"
   ]
  },
  {
   "cell_type": "code",
   "execution_count": 299,
   "id": "2096bb72-d7ff-4f7b-aa93-aebc55385b0b",
   "metadata": {},
   "outputs": [
    {
     "name": "stdout",
     "output_type": "stream",
     "text": [
      "[1 4 3 2]\n",
      "[[1 2]\n",
      " [3 4]]\n"
     ]
    },
    {
     "data": {
      "text/plain": [
       "array([2, 4])"
      ]
     },
     "execution_count": 299,
     "metadata": {},
     "output_type": "execute_result"
    }
   ],
   "source": [
    "# Indexing using lists\n",
    "ser = np.array([1,2,3,4,5])\n",
    "print(ser[[0,3,2,1]])\n",
    "print(stat)\n",
    "stat[[0,1],[1,1]]  # row, column"
   ]
  },
  {
   "cell_type": "code",
   "execution_count": null,
   "id": "337011ad-0f7c-4db2-bc03-b91490e7ae37",
   "metadata": {},
   "outputs": [],
   "source": []
  }
 ],
 "metadata": {
  "kernelspec": {
   "display_name": "Python 3 (ipykernel)",
   "language": "python",
   "name": "python3"
  },
  "language_info": {
   "codemirror_mode": {
    "name": "ipython",
    "version": 3
   },
   "file_extension": ".py",
   "mimetype": "text/x-python",
   "name": "python",
   "nbconvert_exporter": "python",
   "pygments_lexer": "ipython3",
   "version": "3.10.9"
  }
 },
 "nbformat": 4,
 "nbformat_minor": 5
}
